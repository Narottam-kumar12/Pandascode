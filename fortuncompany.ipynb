{
 "cells": [
  {
   "cell_type": "code",
   "execution_count": 34,
   "metadata": {},
   "outputs": [],
   "source": [
    "import pandas as pd\n",
    "import numpy as np"
   ]
  },
  {
   "cell_type": "code",
   "execution_count": 35,
   "metadata": {},
   "outputs": [
    {
     "ename": "UnicodeDecodeError",
     "evalue": "'utf-8' codec can't decode byte 0xd5 in position 3467: invalid continuation byte",
     "output_type": "error",
     "traceback": [
      "\u001b[0;31m---------------------------------------------------------------------------\u001b[0m",
      "\u001b[0;31mUnicodeDecodeError\u001b[0m                        Traceback (most recent call last)",
      "Cell \u001b[0;32mIn[35], line 1\u001b[0m\n\u001b[0;32m----> 1\u001b[0m company \u001b[38;5;241m=\u001b[39m pd\u001b[38;5;241m.\u001b[39mread_csv(\u001b[38;5;124m'\u001b[39m\u001b[38;5;124mFortune501.csv\u001b[39m\u001b[38;5;124m'\u001b[39m)\n",
      "File \u001b[0;32m/opt/anaconda3/lib/python3.12/site-packages/pandas/io/parsers/readers.py:1026\u001b[0m, in \u001b[0;36mread_csv\u001b[0;34m(filepath_or_buffer, sep, delimiter, header, names, index_col, usecols, dtype, engine, converters, true_values, false_values, skipinitialspace, skiprows, skipfooter, nrows, na_values, keep_default_na, na_filter, verbose, skip_blank_lines, parse_dates, infer_datetime_format, keep_date_col, date_parser, date_format, dayfirst, cache_dates, iterator, chunksize, compression, thousands, decimal, lineterminator, quotechar, quoting, doublequote, escapechar, comment, encoding, encoding_errors, dialect, on_bad_lines, delim_whitespace, low_memory, memory_map, float_precision, storage_options, dtype_backend)\u001b[0m\n\u001b[1;32m   1013\u001b[0m kwds_defaults \u001b[38;5;241m=\u001b[39m _refine_defaults_read(\n\u001b[1;32m   1014\u001b[0m     dialect,\n\u001b[1;32m   1015\u001b[0m     delimiter,\n\u001b[0;32m   (...)\u001b[0m\n\u001b[1;32m   1022\u001b[0m     dtype_backend\u001b[38;5;241m=\u001b[39mdtype_backend,\n\u001b[1;32m   1023\u001b[0m )\n\u001b[1;32m   1024\u001b[0m kwds\u001b[38;5;241m.\u001b[39mupdate(kwds_defaults)\n\u001b[0;32m-> 1026\u001b[0m \u001b[38;5;28;01mreturn\u001b[39;00m _read(filepath_or_buffer, kwds)\n",
      "File \u001b[0;32m/opt/anaconda3/lib/python3.12/site-packages/pandas/io/parsers/readers.py:620\u001b[0m, in \u001b[0;36m_read\u001b[0;34m(filepath_or_buffer, kwds)\u001b[0m\n\u001b[1;32m    617\u001b[0m _validate_names(kwds\u001b[38;5;241m.\u001b[39mget(\u001b[38;5;124m\"\u001b[39m\u001b[38;5;124mnames\u001b[39m\u001b[38;5;124m\"\u001b[39m, \u001b[38;5;28;01mNone\u001b[39;00m))\n\u001b[1;32m    619\u001b[0m \u001b[38;5;66;03m# Create the parser.\u001b[39;00m\n\u001b[0;32m--> 620\u001b[0m parser \u001b[38;5;241m=\u001b[39m TextFileReader(filepath_or_buffer, \u001b[38;5;241m*\u001b[39m\u001b[38;5;241m*\u001b[39mkwds)\n\u001b[1;32m    622\u001b[0m \u001b[38;5;28;01mif\u001b[39;00m chunksize \u001b[38;5;129;01mor\u001b[39;00m iterator:\n\u001b[1;32m    623\u001b[0m     \u001b[38;5;28;01mreturn\u001b[39;00m parser\n",
      "File \u001b[0;32m/opt/anaconda3/lib/python3.12/site-packages/pandas/io/parsers/readers.py:1620\u001b[0m, in \u001b[0;36mTextFileReader.__init__\u001b[0;34m(self, f, engine, **kwds)\u001b[0m\n\u001b[1;32m   1617\u001b[0m     \u001b[38;5;28mself\u001b[39m\u001b[38;5;241m.\u001b[39moptions[\u001b[38;5;124m\"\u001b[39m\u001b[38;5;124mhas_index_names\u001b[39m\u001b[38;5;124m\"\u001b[39m] \u001b[38;5;241m=\u001b[39m kwds[\u001b[38;5;124m\"\u001b[39m\u001b[38;5;124mhas_index_names\u001b[39m\u001b[38;5;124m\"\u001b[39m]\n\u001b[1;32m   1619\u001b[0m \u001b[38;5;28mself\u001b[39m\u001b[38;5;241m.\u001b[39mhandles: IOHandles \u001b[38;5;241m|\u001b[39m \u001b[38;5;28;01mNone\u001b[39;00m \u001b[38;5;241m=\u001b[39m \u001b[38;5;28;01mNone\u001b[39;00m\n\u001b[0;32m-> 1620\u001b[0m \u001b[38;5;28mself\u001b[39m\u001b[38;5;241m.\u001b[39m_engine \u001b[38;5;241m=\u001b[39m \u001b[38;5;28mself\u001b[39m\u001b[38;5;241m.\u001b[39m_make_engine(f, \u001b[38;5;28mself\u001b[39m\u001b[38;5;241m.\u001b[39mengine)\n",
      "File \u001b[0;32m/opt/anaconda3/lib/python3.12/site-packages/pandas/io/parsers/readers.py:1898\u001b[0m, in \u001b[0;36mTextFileReader._make_engine\u001b[0;34m(self, f, engine)\u001b[0m\n\u001b[1;32m   1895\u001b[0m     \u001b[38;5;28;01mraise\u001b[39;00m \u001b[38;5;167;01mValueError\u001b[39;00m(msg)\n\u001b[1;32m   1897\u001b[0m \u001b[38;5;28;01mtry\u001b[39;00m:\n\u001b[0;32m-> 1898\u001b[0m     \u001b[38;5;28;01mreturn\u001b[39;00m mapping[engine](f, \u001b[38;5;241m*\u001b[39m\u001b[38;5;241m*\u001b[39m\u001b[38;5;28mself\u001b[39m\u001b[38;5;241m.\u001b[39moptions)\n\u001b[1;32m   1899\u001b[0m \u001b[38;5;28;01mexcept\u001b[39;00m \u001b[38;5;167;01mException\u001b[39;00m:\n\u001b[1;32m   1900\u001b[0m     \u001b[38;5;28;01mif\u001b[39;00m \u001b[38;5;28mself\u001b[39m\u001b[38;5;241m.\u001b[39mhandles \u001b[38;5;129;01mis\u001b[39;00m \u001b[38;5;129;01mnot\u001b[39;00m \u001b[38;5;28;01mNone\u001b[39;00m:\n",
      "File \u001b[0;32m/opt/anaconda3/lib/python3.12/site-packages/pandas/io/parsers/c_parser_wrapper.py:93\u001b[0m, in \u001b[0;36mCParserWrapper.__init__\u001b[0;34m(self, src, **kwds)\u001b[0m\n\u001b[1;32m     90\u001b[0m \u001b[38;5;28;01mif\u001b[39;00m kwds[\u001b[38;5;124m\"\u001b[39m\u001b[38;5;124mdtype_backend\u001b[39m\u001b[38;5;124m\"\u001b[39m] \u001b[38;5;241m==\u001b[39m \u001b[38;5;124m\"\u001b[39m\u001b[38;5;124mpyarrow\u001b[39m\u001b[38;5;124m\"\u001b[39m:\n\u001b[1;32m     91\u001b[0m     \u001b[38;5;66;03m# Fail here loudly instead of in cython after reading\u001b[39;00m\n\u001b[1;32m     92\u001b[0m     import_optional_dependency(\u001b[38;5;124m\"\u001b[39m\u001b[38;5;124mpyarrow\u001b[39m\u001b[38;5;124m\"\u001b[39m)\n\u001b[0;32m---> 93\u001b[0m \u001b[38;5;28mself\u001b[39m\u001b[38;5;241m.\u001b[39m_reader \u001b[38;5;241m=\u001b[39m parsers\u001b[38;5;241m.\u001b[39mTextReader(src, \u001b[38;5;241m*\u001b[39m\u001b[38;5;241m*\u001b[39mkwds)\n\u001b[1;32m     95\u001b[0m \u001b[38;5;28mself\u001b[39m\u001b[38;5;241m.\u001b[39munnamed_cols \u001b[38;5;241m=\u001b[39m \u001b[38;5;28mself\u001b[39m\u001b[38;5;241m.\u001b[39m_reader\u001b[38;5;241m.\u001b[39munnamed_cols\n\u001b[1;32m     97\u001b[0m \u001b[38;5;66;03m# error: Cannot determine type of 'names'\u001b[39;00m\n",
      "File \u001b[0;32mparsers.pyx:574\u001b[0m, in \u001b[0;36mpandas._libs.parsers.TextReader.__cinit__\u001b[0;34m()\u001b[0m\n",
      "File \u001b[0;32mparsers.pyx:663\u001b[0m, in \u001b[0;36mpandas._libs.parsers.TextReader._get_header\u001b[0;34m()\u001b[0m\n",
      "File \u001b[0;32mparsers.pyx:874\u001b[0m, in \u001b[0;36mpandas._libs.parsers.TextReader._tokenize_rows\u001b[0;34m()\u001b[0m\n",
      "File \u001b[0;32mparsers.pyx:891\u001b[0m, in \u001b[0;36mpandas._libs.parsers.TextReader._check_tokenize_status\u001b[0;34m()\u001b[0m\n",
      "File \u001b[0;32mparsers.pyx:2053\u001b[0m, in \u001b[0;36mpandas._libs.parsers.raise_parser_error\u001b[0;34m()\u001b[0m\n",
      "File \u001b[0;32m<frozen codecs>:322\u001b[0m, in \u001b[0;36mdecode\u001b[0;34m(self, input, final)\u001b[0m\n",
      "\u001b[0;31mUnicodeDecodeError\u001b[0m: 'utf-8' codec can't decode byte 0xd5 in position 3467: invalid continuation byte"
     ]
    }
   ],
   "source": [
    "company = pd.read_csv('Fortune501.csv')"
   ]
  },
  {
   "cell_type": "code",
   "execution_count": null,
   "metadata": {},
   "outputs": [
    {
     "name": "stdout",
     "output_type": "stream",
     "text": [
      "Detected encoding: ISO-8859-1\n",
      "   Rank        Company Name Number of Employees  Previous Rank   Revenues  \\\n",
      "0     1             Walmart           23,00,000            1.0  $4,85,873   \n",
      "1     2  Berkshire Hathaway            3,67,700            4.0  $2,23,604   \n",
      "2     3               Apple            1,16,000            3.0  $2,15,639   \n",
      "3     4         Exxon Mobil              72,700            2.0  $2,05,004   \n",
      "4     5            McKesson              68,000            5.0  $1,92,487   \n",
      "\n",
      "  Revenue Change    Profits Profit Change     Assets Market Value  \n",
      "0           0.8%  $13,643.0         -7.2%  $1,98,825    $2,18,619  \n",
      "1           6.1%  $24,074.0          0.0%  $6,20,854    $4,11,035  \n",
      "2          -7.7%  $45,687.0        -14.4%  $3,21,686    $7,53,718  \n",
      "3         -16.7%   $7,840.0        -51.5%  $3,30,314    $3,40,056  \n",
      "4           6.2%   $2,258.0         53.0%    $56,563      $31,439  \n"
     ]
    }
   ],
   "source": [
    "import pandas as pd\n",
    "import chardet\n",
    "\n",
    "file_path = \"/Users/narattamkumar/Pandas/Fortune501.csv\"\n",
    "\n",
    "# Detect encoding\n",
    "with open(file_path, \"rb\") as f:\n",
    "    result = chardet.detect(f.read())\n",
    "    detected_encoding = result[\"encoding\"]\n",
    "    print(f\"Detected encoding: {detected_encoding}\")\n",
    "\n",
    "# Read the file with the detected encoding\n",
    "try:\n",
    "    df = pd.read_csv(file_path, encoding=detected_encoding, on_bad_lines=\"skip\")\n",
    "    print(df.head())\n",
    "except Exception as e:\n",
    "    print(f\"Error reading the file: {e}\")\n"
   ]
  },
  {
   "cell_type": "code",
   "execution_count": null,
   "metadata": {},
   "outputs": [
    {
     "data": {
      "text/plain": [
       "(500, 10)"
      ]
     },
     "execution_count": 14,
     "metadata": {},
     "output_type": "execute_result"
    }
   ],
   "source": [
    "df.shape"
   ]
  },
  {
   "cell_type": "code",
   "execution_count": null,
   "metadata": {},
   "outputs": [
    {
     "data": {
      "text/html": [
       "<div>\n",
       "<style scoped>\n",
       "    .dataframe tbody tr th:only-of-type {\n",
       "        vertical-align: middle;\n",
       "    }\n",
       "\n",
       "    .dataframe tbody tr th {\n",
       "        vertical-align: top;\n",
       "    }\n",
       "\n",
       "    .dataframe thead th {\n",
       "        text-align: right;\n",
       "    }\n",
       "</style>\n",
       "<table border=\"1\" class=\"dataframe\">\n",
       "  <thead>\n",
       "    <tr style=\"text-align: right;\">\n",
       "      <th></th>\n",
       "      <th>Rank</th>\n",
       "      <th>Company Name</th>\n",
       "      <th>Number of Employees</th>\n",
       "      <th>Previous Rank</th>\n",
       "      <th>Revenues</th>\n",
       "      <th>Revenue Change</th>\n",
       "      <th>Profits</th>\n",
       "      <th>Profit Change</th>\n",
       "      <th>Assets</th>\n",
       "      <th>Market Value</th>\n",
       "    </tr>\n",
       "  </thead>\n",
       "  <tbody>\n",
       "    <tr>\n",
       "      <th>0</th>\n",
       "      <td>1</td>\n",
       "      <td>Walmart</td>\n",
       "      <td>23,00,000</td>\n",
       "      <td>1.0</td>\n",
       "      <td>$4,85,873</td>\n",
       "      <td>0.8%</td>\n",
       "      <td>$13,643.0</td>\n",
       "      <td>-7.2%</td>\n",
       "      <td>$1,98,825</td>\n",
       "      <td>$2,18,619</td>\n",
       "    </tr>\n",
       "    <tr>\n",
       "      <th>1</th>\n",
       "      <td>2</td>\n",
       "      <td>Berkshire Hathaway</td>\n",
       "      <td>3,67,700</td>\n",
       "      <td>4.0</td>\n",
       "      <td>$2,23,604</td>\n",
       "      <td>6.1%</td>\n",
       "      <td>$24,074.0</td>\n",
       "      <td>0.0%</td>\n",
       "      <td>$6,20,854</td>\n",
       "      <td>$4,11,035</td>\n",
       "    </tr>\n",
       "  </tbody>\n",
       "</table>\n",
       "</div>"
      ],
      "text/plain": [
       "   Rank        Company Name Number of Employees  Previous Rank   Revenues  \\\n",
       "0     1             Walmart           23,00,000            1.0  $4,85,873   \n",
       "1     2  Berkshire Hathaway            3,67,700            4.0  $2,23,604   \n",
       "\n",
       "  Revenue Change    Profits Profit Change     Assets Market Value  \n",
       "0           0.8%  $13,643.0         -7.2%  $1,98,825    $2,18,619  \n",
       "1           6.1%  $24,074.0          0.0%  $6,20,854    $4,11,035  "
      ]
     },
     "execution_count": 15,
     "metadata": {},
     "output_type": "execute_result"
    }
   ],
   "source": [
    "df.head(2)"
   ]
  },
  {
   "cell_type": "code",
   "execution_count": null,
   "metadata": {},
   "outputs": [
    {
     "name": "stdout",
     "output_type": "stream",
     "text": [
      "<class 'pandas.core.frame.DataFrame'>\n",
      "RangeIndex: 500 entries, 0 to 499\n",
      "Data columns (total 10 columns):\n",
      " #   Column               Non-Null Count  Dtype  \n",
      "---  ------               --------------  -----  \n",
      " 0   Rank                 500 non-null    int64  \n",
      " 1   Company Name         500 non-null    object \n",
      " 2   Number of Employees  500 non-null    object \n",
      " 3   Previous Rank        492 non-null    float64\n",
      " 4   Revenues             500 non-null    object \n",
      " 5   Revenue Change       500 non-null    object \n",
      " 6   Profits              500 non-null    object \n",
      " 7   Profit Change        500 non-null    object \n",
      " 8   Assets               500 non-null    object \n",
      " 9   Market Value         500 non-null    object \n",
      "dtypes: float64(1), int64(1), object(8)\n",
      "memory usage: 39.2+ KB\n"
     ]
    }
   ],
   "source": [
    "df.info()"
   ]
  },
  {
   "cell_type": "code",
   "execution_count": null,
   "metadata": {},
   "outputs": [
    {
     "data": {
      "text/html": [
       "<div>\n",
       "<style scoped>\n",
       "    .dataframe tbody tr th:only-of-type {\n",
       "        vertical-align: middle;\n",
       "    }\n",
       "\n",
       "    .dataframe tbody tr th {\n",
       "        vertical-align: top;\n",
       "    }\n",
       "\n",
       "    .dataframe thead th {\n",
       "        text-align: right;\n",
       "    }\n",
       "</style>\n",
       "<table border=\"1\" class=\"dataframe\">\n",
       "  <thead>\n",
       "    <tr style=\"text-align: right;\">\n",
       "      <th></th>\n",
       "      <th>Rank</th>\n",
       "      <th>Previous Rank</th>\n",
       "    </tr>\n",
       "  </thead>\n",
       "  <tbody>\n",
       "    <tr>\n",
       "      <th>count</th>\n",
       "      <td>500.000000</td>\n",
       "      <td>492.000000</td>\n",
       "    </tr>\n",
       "    <tr>\n",
       "      <th>mean</th>\n",
       "      <td>250.500000</td>\n",
       "      <td>257.111789</td>\n",
       "    </tr>\n",
       "    <tr>\n",
       "      <th>std</th>\n",
       "      <td>144.481833</td>\n",
       "      <td>154.048098</td>\n",
       "    </tr>\n",
       "    <tr>\n",
       "      <th>min</th>\n",
       "      <td>1.000000</td>\n",
       "      <td>1.000000</td>\n",
       "    </tr>\n",
       "    <tr>\n",
       "      <th>25%</th>\n",
       "      <td>125.750000</td>\n",
       "      <td>127.750000</td>\n",
       "    </tr>\n",
       "    <tr>\n",
       "      <th>50%</th>\n",
       "      <td>250.500000</td>\n",
       "      <td>251.500000</td>\n",
       "    </tr>\n",
       "    <tr>\n",
       "      <th>75%</th>\n",
       "      <td>375.250000</td>\n",
       "      <td>379.250000</td>\n",
       "    </tr>\n",
       "    <tr>\n",
       "      <th>max</th>\n",
       "      <td>500.000000</td>\n",
       "      <td>761.000000</td>\n",
       "    </tr>\n",
       "  </tbody>\n",
       "</table>\n",
       "</div>"
      ],
      "text/plain": [
       "             Rank  Previous Rank\n",
       "count  500.000000     492.000000\n",
       "mean   250.500000     257.111789\n",
       "std    144.481833     154.048098\n",
       "min      1.000000       1.000000\n",
       "25%    125.750000     127.750000\n",
       "50%    250.500000     251.500000\n",
       "75%    375.250000     379.250000\n",
       "max    500.000000     761.000000"
      ]
     },
     "execution_count": 16,
     "metadata": {},
     "output_type": "execute_result"
    }
   ],
   "source": [
    "df.describe()"
   ]
  },
  {
   "cell_type": "code",
   "execution_count": 40,
   "metadata": {},
   "outputs": [],
   "source": [
    "values = df.groupby('Company Name')"
   ]
  },
  {
   "cell_type": "code",
   "execution_count": 41,
   "metadata": {},
   "outputs": [
    {
     "data": {
      "text/plain": [
       "<pandas.core.groupby.generic.DataFrameGroupBy object at 0x14e71b890>"
      ]
     },
     "execution_count": 41,
     "metadata": {},
     "output_type": "execute_result"
    }
   ],
   "source": [
    "values"
   ]
  },
  {
   "cell_type": "code",
   "execution_count": 42,
   "metadata": {},
   "outputs": [
    {
     "data": {
      "text/plain": [
       "497"
      ]
     },
     "execution_count": 42,
     "metadata": {},
     "output_type": "execute_result"
    }
   ],
   "source": [
    "len(values)"
   ]
  },
  {
   "cell_type": "code",
   "execution_count": 43,
   "metadata": {},
   "outputs": [
    {
     "data": {
      "text/plain": [
       "Company Name\n",
       "Regions Financial       2\n",
       "Alcoa                   2\n",
       "Avnet                   2\n",
       "3M                      1\n",
       "Nucor                   1\n",
       "                       ..\n",
       "Eli Lilly               1\n",
       "Edison International    1\n",
       "Ecolab                  1\n",
       "Eastman Chemical        1\n",
       "salesforce.com          1\n",
       "Length: 497, dtype: int64"
      ]
     },
     "execution_count": 43,
     "metadata": {},
     "output_type": "execute_result"
    }
   ],
   "source": [
    "values.size().sort_values(ascending = False)"
   ]
  },
  {
   "cell_type": "code",
   "execution_count": 44,
   "metadata": {},
   "outputs": [
    {
     "data": {
      "text/html": [
       "<div>\n",
       "<style scoped>\n",
       "    .dataframe tbody tr th:only-of-type {\n",
       "        vertical-align: middle;\n",
       "    }\n",
       "\n",
       "    .dataframe tbody tr th {\n",
       "        vertical-align: top;\n",
       "    }\n",
       "\n",
       "    .dataframe thead th {\n",
       "        text-align: right;\n",
       "    }\n",
       "</style>\n",
       "<table border=\"1\" class=\"dataframe\">\n",
       "  <thead>\n",
       "    <tr style=\"text-align: right;\">\n",
       "      <th></th>\n",
       "      <th>Rank</th>\n",
       "      <th>Number of Employees</th>\n",
       "      <th>Previous Rank</th>\n",
       "      <th>Revenues</th>\n",
       "      <th>Revenue Change</th>\n",
       "      <th>Profits</th>\n",
       "      <th>Profit Change</th>\n",
       "      <th>Assets</th>\n",
       "      <th>Market Value</th>\n",
       "    </tr>\n",
       "    <tr>\n",
       "      <th>Company Name</th>\n",
       "      <th></th>\n",
       "      <th></th>\n",
       "      <th></th>\n",
       "      <th></th>\n",
       "      <th></th>\n",
       "      <th></th>\n",
       "      <th></th>\n",
       "      <th></th>\n",
       "      <th></th>\n",
       "    </tr>\n",
       "  </thead>\n",
       "  <tbody>\n",
       "    <tr>\n",
       "      <th>3M</th>\n",
       "      <td>94</td>\n",
       "      <td>91,584</td>\n",
       "      <td>93.0</td>\n",
       "      <td>$30,109</td>\n",
       "      <td>-0.5%</td>\n",
       "      <td>$5,050.0</td>\n",
       "      <td>4.5%</td>\n",
       "      <td>$32,906</td>\n",
       "      <td>$1,14,338</td>\n",
       "    </tr>\n",
       "    <tr>\n",
       "      <th>A-Mark Precious Metals</th>\n",
       "      <td>395</td>\n",
       "      <td>83,000</td>\n",
       "      <td>426.0</td>\n",
       "      <td>$6,784</td>\n",
       "      <td>11.8%</td>\n",
       "      <td>$9.3</td>\n",
       "      <td>31.5%</td>\n",
       "      <td>$437</td>\n",
       "      <td>$120</td>\n",
       "    </tr>\n",
       "    <tr>\n",
       "      <th>ABM Industries</th>\n",
       "      <td>500</td>\n",
       "      <td>1,10,000</td>\n",
       "      <td>485.0</td>\n",
       "      <td>$5,145</td>\n",
       "      <td>-2.8%</td>\n",
       "      <td>$57.2</td>\n",
       "      <td>-25.0%</td>\n",
       "      <td>$2,281</td>\n",
       "      <td>$2,428</td>\n",
       "    </tr>\n",
       "    <tr>\n",
       "      <th>ADP</th>\n",
       "      <td>240</td>\n",
       "      <td>57,000</td>\n",
       "      <td>248.0</td>\n",
       "      <td>$11,668</td>\n",
       "      <td>1.7%</td>\n",
       "      <td>$1,492.5</td>\n",
       "      <td>2.8%</td>\n",
       "      <td>$43,670</td>\n",
       "      <td>$45,963</td>\n",
       "    </tr>\n",
       "    <tr>\n",
       "      <th>AECOM</th>\n",
       "      <td>161</td>\n",
       "      <td>87,000</td>\n",
       "      <td>156.0</td>\n",
       "      <td>$17,411</td>\n",
       "      <td>-3.2%</td>\n",
       "      <td>$96.1</td>\n",
       "      <td>-</td>\n",
       "      <td>$13,727</td>\n",
       "      <td>$5,528</td>\n",
       "    </tr>\n",
       "    <tr>\n",
       "      <th>...</th>\n",
       "      <td>...</td>\n",
       "      <td>...</td>\n",
       "      <td>...</td>\n",
       "      <td>...</td>\n",
       "      <td>...</td>\n",
       "      <td>...</td>\n",
       "      <td>...</td>\n",
       "      <td>...</td>\n",
       "      <td>...</td>\n",
       "    </tr>\n",
       "    <tr>\n",
       "      <th>Yum China Holdings</th>\n",
       "      <td>399</td>\n",
       "      <td>4,20,000</td>\n",
       "      <td>NaN</td>\n",
       "      <td>$6,752</td>\n",
       "      <td>-</td>\n",
       "      <td>$502.0</td>\n",
       "      <td>-</td>\n",
       "      <td>$3,727</td>\n",
       "      <td>$10,453</td>\n",
       "    </tr>\n",
       "    <tr>\n",
       "      <th>Zimmer Biomet Holdings</th>\n",
       "      <td>352</td>\n",
       "      <td>18,500</td>\n",
       "      <td>431.0</td>\n",
       "      <td>$7,684</td>\n",
       "      <td>28.1%</td>\n",
       "      <td>$305.9</td>\n",
       "      <td>108.1%</td>\n",
       "      <td>$26,684</td>\n",
       "      <td>$24,571</td>\n",
       "    </tr>\n",
       "    <tr>\n",
       "      <th>eBay</th>\n",
       "      <td>310</td>\n",
       "      <td>12,600</td>\n",
       "      <td>300.0</td>\n",
       "      <td>$8,979</td>\n",
       "      <td>-5.4%</td>\n",
       "      <td>$7,266.0</td>\n",
       "      <td>321.2%</td>\n",
       "      <td>$23,847</td>\n",
       "      <td>$36,232</td>\n",
       "    </tr>\n",
       "    <tr>\n",
       "      <th>iHeartMedia</th>\n",
       "      <td>426</td>\n",
       "      <td>18,700</td>\n",
       "      <td>414.0</td>\n",
       "      <td>$6,274</td>\n",
       "      <td>0.5%</td>\n",
       "      <td>-$296.3</td>\n",
       "      <td>-</td>\n",
       "      <td>$12,862</td>\n",
       "      <td>$330</td>\n",
       "    </tr>\n",
       "    <tr>\n",
       "      <th>salesforce.com</th>\n",
       "      <td>326</td>\n",
       "      <td>25,000</td>\n",
       "      <td>386.0</td>\n",
       "      <td>$8,392</td>\n",
       "      <td>25.9%</td>\n",
       "      <td>$179.6</td>\n",
       "      <td>-</td>\n",
       "      <td>$17,585</td>\n",
       "      <td>$58,362</td>\n",
       "    </tr>\n",
       "  </tbody>\n",
       "</table>\n",
       "<p>497 rows × 9 columns</p>\n",
       "</div>"
      ],
      "text/plain": [
       "                        Rank Number of Employees  Previous Rank Revenues  \\\n",
       "Company Name                                                               \n",
       "3M                        94              91,584           93.0  $30,109   \n",
       "A-Mark Precious Metals   395              83,000          426.0   $6,784   \n",
       "ABM Industries           500            1,10,000          485.0   $5,145   \n",
       "ADP                      240              57,000          248.0  $11,668   \n",
       "AECOM                    161              87,000          156.0  $17,411   \n",
       "...                      ...                 ...            ...      ...   \n",
       "Yum China Holdings       399            4,20,000            NaN   $6,752   \n",
       "Zimmer Biomet Holdings   352              18,500          431.0   $7,684   \n",
       "eBay                     310              12,600          300.0   $8,979   \n",
       "iHeartMedia              426              18,700          414.0   $6,274   \n",
       "salesforce.com           326              25,000          386.0   $8,392   \n",
       "\n",
       "                       Revenue Change   Profits Profit Change   Assets  \\\n",
       "Company Name                                                             \n",
       "3M                              -0.5%  $5,050.0          4.5%  $32,906   \n",
       "A-Mark Precious Metals          11.8%      $9.3         31.5%     $437   \n",
       "ABM Industries                  -2.8%     $57.2        -25.0%   $2,281   \n",
       "ADP                              1.7%  $1,492.5          2.8%  $43,670   \n",
       "AECOM                           -3.2%     $96.1             -  $13,727   \n",
       "...                               ...       ...           ...      ...   \n",
       "Yum China Holdings                  -    $502.0             -   $3,727   \n",
       "Zimmer Biomet Holdings          28.1%    $305.9        108.1%  $26,684   \n",
       "eBay                            -5.4%  $7,266.0        321.2%  $23,847   \n",
       "iHeartMedia                      0.5%   -$296.3             -  $12,862   \n",
       "salesforce.com                  25.9%    $179.6             -  $17,585   \n",
       "\n",
       "                       Market Value  \n",
       "Company Name                         \n",
       "3M                        $1,14,338  \n",
       "A-Mark Precious Metals         $120  \n",
       "ABM Industries               $2,428  \n",
       "ADP                         $45,963  \n",
       "AECOM                        $5,528  \n",
       "...                             ...  \n",
       "Yum China Holdings          $10,453  \n",
       "Zimmer Biomet Holdings      $24,571  \n",
       "eBay                        $36,232  \n",
       "iHeartMedia                    $330  \n",
       "salesforce.com              $58,362  \n",
       "\n",
       "[497 rows x 9 columns]"
      ]
     },
     "execution_count": 44,
     "metadata": {},
     "output_type": "execute_result"
    }
   ],
   "source": [
    "values.last()"
   ]
  },
  {
   "cell_type": "code",
   "execution_count": 45,
   "metadata": {},
   "outputs": [
    {
     "data": {
      "text/plain": [
       "{'3M': [93], 'A-Mark Precious Metals': [394], 'ABM Industries': [499], 'ADP': [239], 'AECOM': [160], 'AES': [193], 'AGCO': [369], 'AIG': [54], 'AK Steel Holding': [440], 'AT&T': [8], 'AbbVie': [110], 'Abbott Laboratories': [134], 'Activision Blizzard': [405], 'Adobe Systems': [442], 'Advance Auto Parts': [291], 'Aetna': [42], 'Aflac': [125], 'Air Products & Chemicals': [293], 'Airgas': [488], 'Alaska Air Group': [437], 'Albertsons Cos.': [48], 'Alcoa': [227, 299], 'Alleghany': [427], 'Alliance Data Systems': [377], 'Allstate': [83], 'Ally Financial': [285], 'Alphabet': [26], 'Altria Group': [147], 'AmTrust Financial Services': [474], 'Amazon.com': [11], 'Ameren': [430], 'American Airlines Group': [66], 'American Electric Power': [166], 'American Express': [85], 'American Family Insurance Group': [314], 'American Financial Group': [410], 'American Tower': [448], 'Ameriprise Financial': [238], 'AmerisourceBergen': [10], 'Amgen': [122], 'Amphenol': [423], 'Anadarko Petroleum': [343], 'Anixter International': [358], 'Anthem': [28], 'Apache': [487], 'Apple': [2], 'Applied Materials': [264], 'Aramark': [191], 'Archer Daniels Midland': [44], 'Arrow Electronics': [117], 'Arthur J. Gallagher': [461], 'Asbury Automotive Group': [409], 'Ascena Retail Group': [383], 'Assurant': [360], 'Auto-Owners Insurance': [397], 'AutoNation': [128], 'AutoZone': [269], 'Autoliv': [282], 'Avery Dennison': [429], 'Avis Budget Group': [318], 'Avnet': [107, 108], 'Avon Products': [443], 'BB&T Corp.': [244], 'Baker Hughes': [284], 'Ball': [305], 'Bank of America Corp.': [25], 'Bank of New York Mellon Corp.': [176], 'Baxter International': [280], 'Becton Dickinson': [224], 'Bed Bath & Beyond': [232], 'Berkshire Hathaway': [1], 'Berry Global Group': [412], 'Best Buy': [71], 'Big Lots': [494], 'Biogen': [247], 'BlackRock': [254], 'Boeing': [23], 'Booz Allen Hamilton Holding': [480], 'BorgWarner': [304], 'Boston Scientific': [326], 'Bristol-Myers Squibb': [146], 'Builders FirstSource': [420], 'Burlington Stores': [462], 'C.H. Robinson Worldwide': [211], 'CBRE Group': [213], 'CBS': [192], 'CDW': [198], 'CH2M Hill': [493], 'CHS': [92], 'CMS Energy': [418], 'CST Brands': [306], 'CSX': [256], 'CVS Health': [6], 'CalAtlantic Group': [414], 'Calpine': [399], 'Campbell Soup': [338], 'Capital One Financial': [99], 'CarMax': [173], 'Cardinal Health': [14], 'CaseyÕs General Stores': [422], ...}"
      ]
     },
     "execution_count": 45,
     "metadata": {},
     "output_type": "execute_result"
    }
   ],
   "source": [
    "values.groups"
   ]
  },
  {
   "cell_type": "code",
   "execution_count": 47,
   "metadata": {},
   "outputs": [
    {
     "data": {
      "text/plain": [
       "Rank                           23\n",
       "Company Name           Home Depot\n",
       "Number of Employees      4,06,000\n",
       "Previous Rank                28.0\n",
       "Revenues                  $94,595\n",
       "Revenue Change               6.9%\n",
       "Profits                  $7,957.0\n",
       "Profit Change               13.5%\n",
       "Assets                    $42,966\n",
       "Market Value            $1,76,368\n",
       "Name: 22, dtype: object"
      ]
     },
     "execution_count": 47,
     "metadata": {},
     "output_type": "execute_result"
    }
   ],
   "source": [
    "df.iloc[22, :]"
   ]
  },
  {
   "cell_type": "code",
   "execution_count": 50,
   "metadata": {},
   "outputs": [
    {
     "data": {
      "text/plain": [
       "(1, 10)"
      ]
     },
     "execution_count": 50,
     "metadata": {},
     "output_type": "execute_result"
    }
   ],
   "source": [
    "values.get_group('ABM Industries').shape"
   ]
  },
  {
   "cell_type": "code",
   "execution_count": 53,
   "metadata": {},
   "outputs": [
    {
     "data": {
      "text/html": [
       "<div>\n",
       "<style scoped>\n",
       "    .dataframe tbody tr th:only-of-type {\n",
       "        vertical-align: middle;\n",
       "    }\n",
       "\n",
       "    .dataframe tbody tr th {\n",
       "        vertical-align: top;\n",
       "    }\n",
       "\n",
       "    .dataframe thead th {\n",
       "        text-align: right;\n",
       "    }\n",
       "</style>\n",
       "<table border=\"1\" class=\"dataframe\">\n",
       "  <thead>\n",
       "    <tr style=\"text-align: right;\">\n",
       "      <th></th>\n",
       "      <th>Rank</th>\n",
       "      <th>Number of Employees</th>\n",
       "      <th>Previous Rank</th>\n",
       "      <th>Revenues</th>\n",
       "      <th>Revenue Change</th>\n",
       "      <th>Profits</th>\n",
       "      <th>Profit Change</th>\n",
       "      <th>Assets</th>\n",
       "      <th>Market Value</th>\n",
       "    </tr>\n",
       "    <tr>\n",
       "      <th>Company Name</th>\n",
       "      <th></th>\n",
       "      <th></th>\n",
       "      <th></th>\n",
       "      <th></th>\n",
       "      <th></th>\n",
       "      <th></th>\n",
       "      <th></th>\n",
       "      <th></th>\n",
       "      <th></th>\n",
       "    </tr>\n",
       "  </thead>\n",
       "  <tbody>\n",
       "    <tr>\n",
       "      <th>3M</th>\n",
       "      <td>94</td>\n",
       "      <td>91,584</td>\n",
       "      <td>93.0</td>\n",
       "      <td>$30,109</td>\n",
       "      <td>-0.5%</td>\n",
       "      <td>$5,050.0</td>\n",
       "      <td>4.5%</td>\n",
       "      <td>$32,906</td>\n",
       "      <td>$1,14,338</td>\n",
       "    </tr>\n",
       "    <tr>\n",
       "      <th>A-Mark Precious Metals</th>\n",
       "      <td>395</td>\n",
       "      <td>83,000</td>\n",
       "      <td>426.0</td>\n",
       "      <td>$6,784</td>\n",
       "      <td>11.8%</td>\n",
       "      <td>$9.3</td>\n",
       "      <td>31.5%</td>\n",
       "      <td>$437</td>\n",
       "      <td>$120</td>\n",
       "    </tr>\n",
       "    <tr>\n",
       "      <th>ABM Industries</th>\n",
       "      <td>500</td>\n",
       "      <td>1,10,000</td>\n",
       "      <td>485.0</td>\n",
       "      <td>$5,145</td>\n",
       "      <td>-2.8%</td>\n",
       "      <td>$57.2</td>\n",
       "      <td>-25.0%</td>\n",
       "      <td>$2,281</td>\n",
       "      <td>$2,428</td>\n",
       "    </tr>\n",
       "    <tr>\n",
       "      <th>ADP</th>\n",
       "      <td>240</td>\n",
       "      <td>57,000</td>\n",
       "      <td>248.0</td>\n",
       "      <td>$11,668</td>\n",
       "      <td>1.7%</td>\n",
       "      <td>$1,492.5</td>\n",
       "      <td>2.8%</td>\n",
       "      <td>$43,670</td>\n",
       "      <td>$45,963</td>\n",
       "    </tr>\n",
       "    <tr>\n",
       "      <th>AECOM</th>\n",
       "      <td>161</td>\n",
       "      <td>87,000</td>\n",
       "      <td>156.0</td>\n",
       "      <td>$17,411</td>\n",
       "      <td>-3.2%</td>\n",
       "      <td>$96.1</td>\n",
       "      <td>-</td>\n",
       "      <td>$13,727</td>\n",
       "      <td>$5,528</td>\n",
       "    </tr>\n",
       "    <tr>\n",
       "      <th>...</th>\n",
       "      <td>...</td>\n",
       "      <td>...</td>\n",
       "      <td>...</td>\n",
       "      <td>...</td>\n",
       "      <td>...</td>\n",
       "      <td>...</td>\n",
       "      <td>...</td>\n",
       "      <td>...</td>\n",
       "      <td>...</td>\n",
       "    </tr>\n",
       "    <tr>\n",
       "      <th>Yum China Holdings</th>\n",
       "      <td>399</td>\n",
       "      <td>4,20,000</td>\n",
       "      <td>0.0</td>\n",
       "      <td>$6,752</td>\n",
       "      <td>-</td>\n",
       "      <td>$502.0</td>\n",
       "      <td>-</td>\n",
       "      <td>$3,727</td>\n",
       "      <td>$10,453</td>\n",
       "    </tr>\n",
       "    <tr>\n",
       "      <th>Zimmer Biomet Holdings</th>\n",
       "      <td>352</td>\n",
       "      <td>18,500</td>\n",
       "      <td>431.0</td>\n",
       "      <td>$7,684</td>\n",
       "      <td>28.1%</td>\n",
       "      <td>$305.9</td>\n",
       "      <td>108.1%</td>\n",
       "      <td>$26,684</td>\n",
       "      <td>$24,571</td>\n",
       "    </tr>\n",
       "    <tr>\n",
       "      <th>eBay</th>\n",
       "      <td>310</td>\n",
       "      <td>12,600</td>\n",
       "      <td>300.0</td>\n",
       "      <td>$8,979</td>\n",
       "      <td>-5.4%</td>\n",
       "      <td>$7,266.0</td>\n",
       "      <td>321.2%</td>\n",
       "      <td>$23,847</td>\n",
       "      <td>$36,232</td>\n",
       "    </tr>\n",
       "    <tr>\n",
       "      <th>iHeartMedia</th>\n",
       "      <td>426</td>\n",
       "      <td>18,700</td>\n",
       "      <td>414.0</td>\n",
       "      <td>$6,274</td>\n",
       "      <td>0.5%</td>\n",
       "      <td>-$296.3</td>\n",
       "      <td>-</td>\n",
       "      <td>$12,862</td>\n",
       "      <td>$330</td>\n",
       "    </tr>\n",
       "    <tr>\n",
       "      <th>salesforce.com</th>\n",
       "      <td>326</td>\n",
       "      <td>25,000</td>\n",
       "      <td>386.0</td>\n",
       "      <td>$8,392</td>\n",
       "      <td>25.9%</td>\n",
       "      <td>$179.6</td>\n",
       "      <td>-</td>\n",
       "      <td>$17,585</td>\n",
       "      <td>$58,362</td>\n",
       "    </tr>\n",
       "  </tbody>\n",
       "</table>\n",
       "<p>497 rows × 9 columns</p>\n",
       "</div>"
      ],
      "text/plain": [
       "                        Rank Number of Employees  Previous Rank Revenues  \\\n",
       "Company Name                                                               \n",
       "3M                        94              91,584           93.0  $30,109   \n",
       "A-Mark Precious Metals   395              83,000          426.0   $6,784   \n",
       "ABM Industries           500            1,10,000          485.0   $5,145   \n",
       "ADP                      240              57,000          248.0  $11,668   \n",
       "AECOM                    161              87,000          156.0  $17,411   \n",
       "...                      ...                 ...            ...      ...   \n",
       "Yum China Holdings       399            4,20,000            0.0   $6,752   \n",
       "Zimmer Biomet Holdings   352              18,500          431.0   $7,684   \n",
       "eBay                     310              12,600          300.0   $8,979   \n",
       "iHeartMedia              426              18,700          414.0   $6,274   \n",
       "salesforce.com           326              25,000          386.0   $8,392   \n",
       "\n",
       "                       Revenue Change   Profits Profit Change   Assets  \\\n",
       "Company Name                                                             \n",
       "3M                              -0.5%  $5,050.0          4.5%  $32,906   \n",
       "A-Mark Precious Metals          11.8%      $9.3         31.5%     $437   \n",
       "ABM Industries                  -2.8%     $57.2        -25.0%   $2,281   \n",
       "ADP                              1.7%  $1,492.5          2.8%  $43,670   \n",
       "AECOM                           -3.2%     $96.1             -  $13,727   \n",
       "...                               ...       ...           ...      ...   \n",
       "Yum China Holdings                  -    $502.0             -   $3,727   \n",
       "Zimmer Biomet Holdings          28.1%    $305.9        108.1%  $26,684   \n",
       "eBay                            -5.4%  $7,266.0        321.2%  $23,847   \n",
       "iHeartMedia                      0.5%   -$296.3             -  $12,862   \n",
       "salesforce.com                  25.9%    $179.6             -  $17,585   \n",
       "\n",
       "                       Market Value  \n",
       "Company Name                         \n",
       "3M                        $1,14,338  \n",
       "A-Mark Precious Metals         $120  \n",
       "ABM Industries               $2,428  \n",
       "ADP                         $45,963  \n",
       "AECOM                        $5,528  \n",
       "...                             ...  \n",
       "Yum China Holdings          $10,453  \n",
       "Zimmer Biomet Holdings      $24,571  \n",
       "eBay                        $36,232  \n",
       "iHeartMedia                    $330  \n",
       "salesforce.com              $58,362  \n",
       "\n",
       "[497 rows x 9 columns]"
      ]
     },
     "execution_count": 53,
     "metadata": {},
     "output_type": "execute_result"
    }
   ],
   "source": [
    "values.sum()"
   ]
  },
  {
   "cell_type": "code",
   "execution_count": 58,
   "metadata": {},
   "outputs": [
    {
     "name": "stdout",
     "output_type": "stream",
     "text": [
      "GroupBy operation failed: 'column_name'\n"
     ]
    },
    {
     "ename": "KeyError",
     "evalue": "'column_name'",
     "output_type": "error",
     "traceback": [
      "\u001b[0;31m---------------------------------------------------------------------------\u001b[0m",
      "\u001b[0;31mKeyError\u001b[0m                                  Traceback (most recent call last)",
      "Cell \u001b[0;32mIn[58], line 2\u001b[0m\n\u001b[1;32m      1\u001b[0m \u001b[38;5;28;01mtry\u001b[39;00m:\n\u001b[0;32m----> 2\u001b[0m     grouped \u001b[38;5;241m=\u001b[39m df\u001b[38;5;241m.\u001b[39mgroupby(\u001b[38;5;124m'\u001b[39m\u001b[38;5;124mcolumn_name\u001b[39m\u001b[38;5;124m'\u001b[39m)[\u001b[38;5;124m'\u001b[39m\u001b[38;5;124manother_column\u001b[39m\u001b[38;5;124m'\u001b[39m]\n\u001b[1;32m      3\u001b[0m     result \u001b[38;5;241m=\u001b[39m grouped\u001b[38;5;241m.\u001b[39msum()  \u001b[38;5;66;03m# Or another aggregation function\u001b[39;00m\n",
      "File \u001b[0;32m/opt/anaconda3/lib/python3.12/site-packages/pandas/core/frame.py:9183\u001b[0m, in \u001b[0;36mDataFrame.groupby\u001b[0;34m(self, by, axis, level, as_index, sort, group_keys, observed, dropna)\u001b[0m\n\u001b[1;32m   9181\u001b[0m     \u001b[38;5;28;01mraise\u001b[39;00m \u001b[38;5;167;01mTypeError\u001b[39;00m(\u001b[38;5;124m\"\u001b[39m\u001b[38;5;124mYou have to supply one of \u001b[39m\u001b[38;5;124m'\u001b[39m\u001b[38;5;124mby\u001b[39m\u001b[38;5;124m'\u001b[39m\u001b[38;5;124m and \u001b[39m\u001b[38;5;124m'\u001b[39m\u001b[38;5;124mlevel\u001b[39m\u001b[38;5;124m'\u001b[39m\u001b[38;5;124m\"\u001b[39m)\n\u001b[0;32m-> 9183\u001b[0m \u001b[38;5;28;01mreturn\u001b[39;00m DataFrameGroupBy(\n\u001b[1;32m   9184\u001b[0m     obj\u001b[38;5;241m=\u001b[39m\u001b[38;5;28mself\u001b[39m,\n\u001b[1;32m   9185\u001b[0m     keys\u001b[38;5;241m=\u001b[39mby,\n\u001b[1;32m   9186\u001b[0m     axis\u001b[38;5;241m=\u001b[39maxis,\n\u001b[1;32m   9187\u001b[0m     level\u001b[38;5;241m=\u001b[39mlevel,\n\u001b[1;32m   9188\u001b[0m     as_index\u001b[38;5;241m=\u001b[39mas_index,\n\u001b[1;32m   9189\u001b[0m     sort\u001b[38;5;241m=\u001b[39msort,\n\u001b[1;32m   9190\u001b[0m     group_keys\u001b[38;5;241m=\u001b[39mgroup_keys,\n\u001b[1;32m   9191\u001b[0m     observed\u001b[38;5;241m=\u001b[39mobserved,\n\u001b[1;32m   9192\u001b[0m     dropna\u001b[38;5;241m=\u001b[39mdropna,\n\u001b[1;32m   9193\u001b[0m )\n",
      "File \u001b[0;32m/opt/anaconda3/lib/python3.12/site-packages/pandas/core/groupby/groupby.py:1329\u001b[0m, in \u001b[0;36mGroupBy.__init__\u001b[0;34m(self, obj, keys, axis, level, grouper, exclusions, selection, as_index, sort, group_keys, observed, dropna)\u001b[0m\n\u001b[1;32m   1328\u001b[0m \u001b[38;5;28;01mif\u001b[39;00m grouper \u001b[38;5;129;01mis\u001b[39;00m \u001b[38;5;28;01mNone\u001b[39;00m:\n\u001b[0;32m-> 1329\u001b[0m     grouper, exclusions, obj \u001b[38;5;241m=\u001b[39m get_grouper(\n\u001b[1;32m   1330\u001b[0m         obj,\n\u001b[1;32m   1331\u001b[0m         keys,\n\u001b[1;32m   1332\u001b[0m         axis\u001b[38;5;241m=\u001b[39maxis,\n\u001b[1;32m   1333\u001b[0m         level\u001b[38;5;241m=\u001b[39mlevel,\n\u001b[1;32m   1334\u001b[0m         sort\u001b[38;5;241m=\u001b[39msort,\n\u001b[1;32m   1335\u001b[0m         observed\u001b[38;5;241m=\u001b[39m\u001b[38;5;28;01mFalse\u001b[39;00m \u001b[38;5;28;01mif\u001b[39;00m observed \u001b[38;5;129;01mis\u001b[39;00m lib\u001b[38;5;241m.\u001b[39mno_default \u001b[38;5;28;01melse\u001b[39;00m observed,\n\u001b[1;32m   1336\u001b[0m         dropna\u001b[38;5;241m=\u001b[39m\u001b[38;5;28mself\u001b[39m\u001b[38;5;241m.\u001b[39mdropna,\n\u001b[1;32m   1337\u001b[0m     )\n\u001b[1;32m   1339\u001b[0m \u001b[38;5;28;01mif\u001b[39;00m observed \u001b[38;5;129;01mis\u001b[39;00m lib\u001b[38;5;241m.\u001b[39mno_default:\n",
      "File \u001b[0;32m/opt/anaconda3/lib/python3.12/site-packages/pandas/core/groupby/grouper.py:1043\u001b[0m, in \u001b[0;36mget_grouper\u001b[0;34m(obj, key, axis, level, sort, observed, validate, dropna)\u001b[0m\n\u001b[1;32m   1042\u001b[0m     \u001b[38;5;28;01melse\u001b[39;00m:\n\u001b[0;32m-> 1043\u001b[0m         \u001b[38;5;28;01mraise\u001b[39;00m \u001b[38;5;167;01mKeyError\u001b[39;00m(gpr)\n\u001b[1;32m   1044\u001b[0m \u001b[38;5;28;01melif\u001b[39;00m \u001b[38;5;28misinstance\u001b[39m(gpr, Grouper) \u001b[38;5;129;01mand\u001b[39;00m gpr\u001b[38;5;241m.\u001b[39mkey \u001b[38;5;129;01mis\u001b[39;00m \u001b[38;5;129;01mnot\u001b[39;00m \u001b[38;5;28;01mNone\u001b[39;00m:\n\u001b[1;32m   1045\u001b[0m     \u001b[38;5;66;03m# Add key to exclusions\u001b[39;00m\n",
      "\u001b[0;31mKeyError\u001b[0m: 'column_name'",
      "\nDuring handling of the above exception, another exception occurred:\n",
      "\u001b[0;31mKeyError\u001b[0m                                  Traceback (most recent call last)",
      "Cell \u001b[0;32mIn[58], line 9\u001b[0m\n\u001b[1;32m      6\u001b[0m \u001b[38;5;28mprint\u001b[39m(\u001b[38;5;124mf\u001b[39m\u001b[38;5;124m\"\u001b[39m\u001b[38;5;124mGroupBy operation failed: \u001b[39m\u001b[38;5;132;01m{\u001b[39;00me\u001b[38;5;132;01m}\u001b[39;00m\u001b[38;5;124m\"\u001b[39m)\n\u001b[1;32m      8\u001b[0m \u001b[38;5;66;03m# Debugging each group\u001b[39;00m\n\u001b[0;32m----> 9\u001b[0m \u001b[38;5;28;01mfor\u001b[39;00m name, group \u001b[38;5;129;01min\u001b[39;00m df\u001b[38;5;241m.\u001b[39mgroupby(\u001b[38;5;124m'\u001b[39m\u001b[38;5;124mcolumn_name\u001b[39m\u001b[38;5;124m'\u001b[39m):\n\u001b[1;32m     10\u001b[0m     \u001b[38;5;28;01mtry\u001b[39;00m:\n\u001b[1;32m     11\u001b[0m         \u001b[38;5;28mprint\u001b[39m(\u001b[38;5;124mf\u001b[39m\u001b[38;5;124m\"\u001b[39m\u001b[38;5;124mProcessing group: \u001b[39m\u001b[38;5;132;01m{\u001b[39;00mname\u001b[38;5;132;01m}\u001b[39;00m\u001b[38;5;124m\"\u001b[39m)\n",
      "File \u001b[0;32m/opt/anaconda3/lib/python3.12/site-packages/pandas/core/frame.py:9183\u001b[0m, in \u001b[0;36mDataFrame.groupby\u001b[0;34m(self, by, axis, level, as_index, sort, group_keys, observed, dropna)\u001b[0m\n\u001b[1;32m   9180\u001b[0m \u001b[38;5;28;01mif\u001b[39;00m level \u001b[38;5;129;01mis\u001b[39;00m \u001b[38;5;28;01mNone\u001b[39;00m \u001b[38;5;129;01mand\u001b[39;00m by \u001b[38;5;129;01mis\u001b[39;00m \u001b[38;5;28;01mNone\u001b[39;00m:\n\u001b[1;32m   9181\u001b[0m     \u001b[38;5;28;01mraise\u001b[39;00m \u001b[38;5;167;01mTypeError\u001b[39;00m(\u001b[38;5;124m\"\u001b[39m\u001b[38;5;124mYou have to supply one of \u001b[39m\u001b[38;5;124m'\u001b[39m\u001b[38;5;124mby\u001b[39m\u001b[38;5;124m'\u001b[39m\u001b[38;5;124m and \u001b[39m\u001b[38;5;124m'\u001b[39m\u001b[38;5;124mlevel\u001b[39m\u001b[38;5;124m'\u001b[39m\u001b[38;5;124m\"\u001b[39m)\n\u001b[0;32m-> 9183\u001b[0m \u001b[38;5;28;01mreturn\u001b[39;00m DataFrameGroupBy(\n\u001b[1;32m   9184\u001b[0m     obj\u001b[38;5;241m=\u001b[39m\u001b[38;5;28mself\u001b[39m,\n\u001b[1;32m   9185\u001b[0m     keys\u001b[38;5;241m=\u001b[39mby,\n\u001b[1;32m   9186\u001b[0m     axis\u001b[38;5;241m=\u001b[39maxis,\n\u001b[1;32m   9187\u001b[0m     level\u001b[38;5;241m=\u001b[39mlevel,\n\u001b[1;32m   9188\u001b[0m     as_index\u001b[38;5;241m=\u001b[39mas_index,\n\u001b[1;32m   9189\u001b[0m     sort\u001b[38;5;241m=\u001b[39msort,\n\u001b[1;32m   9190\u001b[0m     group_keys\u001b[38;5;241m=\u001b[39mgroup_keys,\n\u001b[1;32m   9191\u001b[0m     observed\u001b[38;5;241m=\u001b[39mobserved,\n\u001b[1;32m   9192\u001b[0m     dropna\u001b[38;5;241m=\u001b[39mdropna,\n\u001b[1;32m   9193\u001b[0m )\n",
      "File \u001b[0;32m/opt/anaconda3/lib/python3.12/site-packages/pandas/core/groupby/groupby.py:1329\u001b[0m, in \u001b[0;36mGroupBy.__init__\u001b[0;34m(self, obj, keys, axis, level, grouper, exclusions, selection, as_index, sort, group_keys, observed, dropna)\u001b[0m\n\u001b[1;32m   1326\u001b[0m \u001b[38;5;28mself\u001b[39m\u001b[38;5;241m.\u001b[39mdropna \u001b[38;5;241m=\u001b[39m dropna\n\u001b[1;32m   1328\u001b[0m \u001b[38;5;28;01mif\u001b[39;00m grouper \u001b[38;5;129;01mis\u001b[39;00m \u001b[38;5;28;01mNone\u001b[39;00m:\n\u001b[0;32m-> 1329\u001b[0m     grouper, exclusions, obj \u001b[38;5;241m=\u001b[39m get_grouper(\n\u001b[1;32m   1330\u001b[0m         obj,\n\u001b[1;32m   1331\u001b[0m         keys,\n\u001b[1;32m   1332\u001b[0m         axis\u001b[38;5;241m=\u001b[39maxis,\n\u001b[1;32m   1333\u001b[0m         level\u001b[38;5;241m=\u001b[39mlevel,\n\u001b[1;32m   1334\u001b[0m         sort\u001b[38;5;241m=\u001b[39msort,\n\u001b[1;32m   1335\u001b[0m         observed\u001b[38;5;241m=\u001b[39m\u001b[38;5;28;01mFalse\u001b[39;00m \u001b[38;5;28;01mif\u001b[39;00m observed \u001b[38;5;129;01mis\u001b[39;00m lib\u001b[38;5;241m.\u001b[39mno_default \u001b[38;5;28;01melse\u001b[39;00m observed,\n\u001b[1;32m   1336\u001b[0m         dropna\u001b[38;5;241m=\u001b[39m\u001b[38;5;28mself\u001b[39m\u001b[38;5;241m.\u001b[39mdropna,\n\u001b[1;32m   1337\u001b[0m     )\n\u001b[1;32m   1339\u001b[0m \u001b[38;5;28;01mif\u001b[39;00m observed \u001b[38;5;129;01mis\u001b[39;00m lib\u001b[38;5;241m.\u001b[39mno_default:\n\u001b[1;32m   1340\u001b[0m     \u001b[38;5;28;01mif\u001b[39;00m \u001b[38;5;28many\u001b[39m(ping\u001b[38;5;241m.\u001b[39m_passed_categorical \u001b[38;5;28;01mfor\u001b[39;00m ping \u001b[38;5;129;01min\u001b[39;00m grouper\u001b[38;5;241m.\u001b[39mgroupings):\n",
      "File \u001b[0;32m/opt/anaconda3/lib/python3.12/site-packages/pandas/core/groupby/grouper.py:1043\u001b[0m, in \u001b[0;36mget_grouper\u001b[0;34m(obj, key, axis, level, sort, observed, validate, dropna)\u001b[0m\n\u001b[1;32m   1041\u001b[0m         in_axis, level, gpr \u001b[38;5;241m=\u001b[39m \u001b[38;5;28;01mFalse\u001b[39;00m, gpr, \u001b[38;5;28;01mNone\u001b[39;00m\n\u001b[1;32m   1042\u001b[0m     \u001b[38;5;28;01melse\u001b[39;00m:\n\u001b[0;32m-> 1043\u001b[0m         \u001b[38;5;28;01mraise\u001b[39;00m \u001b[38;5;167;01mKeyError\u001b[39;00m(gpr)\n\u001b[1;32m   1044\u001b[0m \u001b[38;5;28;01melif\u001b[39;00m \u001b[38;5;28misinstance\u001b[39m(gpr, Grouper) \u001b[38;5;129;01mand\u001b[39;00m gpr\u001b[38;5;241m.\u001b[39mkey \u001b[38;5;129;01mis\u001b[39;00m \u001b[38;5;129;01mnot\u001b[39;00m \u001b[38;5;28;01mNone\u001b[39;00m:\n\u001b[1;32m   1045\u001b[0m     \u001b[38;5;66;03m# Add key to exclusions\u001b[39;00m\n\u001b[1;32m   1046\u001b[0m     exclusions\u001b[38;5;241m.\u001b[39madd(gpr\u001b[38;5;241m.\u001b[39mkey)\n",
      "\u001b[0;31mKeyError\u001b[0m: 'column_name'"
     ]
    }
   ],
   "source": []
  },
  {
   "cell_type": "code",
   "execution_count": null,
   "metadata": {},
   "outputs": [],
   "source": []
  }
 ],
 "metadata": {
  "kernelspec": {
   "display_name": "base",
   "language": "python",
   "name": "python3"
  },
  "language_info": {
   "codemirror_mode": {
    "name": "ipython",
    "version": 3
   },
   "file_extension": ".py",
   "mimetype": "text/x-python",
   "name": "python",
   "nbconvert_exporter": "python",
   "pygments_lexer": "ipython3",
   "version": "3.12.7"
  }
 },
 "nbformat": 4,
 "nbformat_minor": 2
}
